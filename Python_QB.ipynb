{
 "cells": [
  {
   "cell_type": "code",
   "execution_count": 1,
   "id": "8d78bfa0",
   "metadata": {},
   "outputs": [],
   "source": [
    "import pandas as pd\n",
    "import matplotlib.pyplot as plt\n"
   ]
  },
  {
   "cell_type": "code",
   "execution_count": 2,
   "id": "695a2c1d",
   "metadata": {},
   "outputs": [],
   "source": [
    "df = pd.read_csv('bank_marketing.csv')"
   ]
  },
  {
   "cell_type": "code",
   "execution_count": 7,
   "id": "9bd88023",
   "metadata": {},
   "outputs": [
    {
     "data": {
      "text/html": [
       "<div>\n",
       "<style scoped>\n",
       "    .dataframe tbody tr th:only-of-type {\n",
       "        vertical-align: middle;\n",
       "    }\n",
       "\n",
       "    .dataframe tbody tr th {\n",
       "        vertical-align: top;\n",
       "    }\n",
       "\n",
       "    .dataframe thead th {\n",
       "        text-align: right;\n",
       "    }\n",
       "</style>\n",
       "<table border=\"1\" class=\"dataframe\">\n",
       "  <thead>\n",
       "    <tr style=\"text-align: right;\">\n",
       "      <th></th>\n",
       "      <th>Unnamed: 0</th>\n",
       "      <th>age</th>\n",
       "      <th>job</th>\n",
       "      <th>marital</th>\n",
       "      <th>education</th>\n",
       "      <th>default</th>\n",
       "      <th>balance</th>\n",
       "      <th>housing</th>\n",
       "      <th>loan</th>\n",
       "      <th>contact</th>\n",
       "      <th>day</th>\n",
       "      <th>month</th>\n",
       "      <th>duration</th>\n",
       "      <th>campaign</th>\n",
       "      <th>pdays</th>\n",
       "      <th>previous</th>\n",
       "      <th>poutcome</th>\n",
       "      <th>deposit</th>\n",
       "    </tr>\n",
       "  </thead>\n",
       "  <tbody>\n",
       "    <tr>\n",
       "      <th>0</th>\n",
       "      <td>0</td>\n",
       "      <td>41</td>\n",
       "      <td>services</td>\n",
       "      <td>married</td>\n",
       "      <td>unknown</td>\n",
       "      <td>no</td>\n",
       "      <td>88</td>\n",
       "      <td>yes</td>\n",
       "      <td>no</td>\n",
       "      <td>cellular</td>\n",
       "      <td>11</td>\n",
       "      <td>may</td>\n",
       "      <td>105</td>\n",
       "      <td>1</td>\n",
       "      <td>336</td>\n",
       "      <td>2</td>\n",
       "      <td>failure</td>\n",
       "      <td>no</td>\n",
       "    </tr>\n",
       "    <tr>\n",
       "      <th>1</th>\n",
       "      <td>1</td>\n",
       "      <td>56</td>\n",
       "      <td>technician</td>\n",
       "      <td>married</td>\n",
       "      <td>secondary</td>\n",
       "      <td>no</td>\n",
       "      <td>1938</td>\n",
       "      <td>no</td>\n",
       "      <td>yes</td>\n",
       "      <td>cellular</td>\n",
       "      <td>26</td>\n",
       "      <td>feb</td>\n",
       "      <td>229</td>\n",
       "      <td>1</td>\n",
       "      <td>192</td>\n",
       "      <td>4</td>\n",
       "      <td>success</td>\n",
       "      <td>yes</td>\n",
       "    </tr>\n",
       "    <tr>\n",
       "      <th>2</th>\n",
       "      <td>2</td>\n",
       "      <td>30</td>\n",
       "      <td>services</td>\n",
       "      <td>single</td>\n",
       "      <td>secondary</td>\n",
       "      <td>no</td>\n",
       "      <td>245</td>\n",
       "      <td>no</td>\n",
       "      <td>yes</td>\n",
       "      <td>cellular</td>\n",
       "      <td>8</td>\n",
       "      <td>jul</td>\n",
       "      <td>187</td>\n",
       "      <td>2</td>\n",
       "      <td>-1</td>\n",
       "      <td>0</td>\n",
       "      <td>unknown</td>\n",
       "      <td>no</td>\n",
       "    </tr>\n",
       "    <tr>\n",
       "      <th>3</th>\n",
       "      <td>3</td>\n",
       "      <td>34</td>\n",
       "      <td>management</td>\n",
       "      <td>single</td>\n",
       "      <td>tertiary</td>\n",
       "      <td>no</td>\n",
       "      <td>1396</td>\n",
       "      <td>yes</td>\n",
       "      <td>no</td>\n",
       "      <td>cellular</td>\n",
       "      <td>17</td>\n",
       "      <td>jul</td>\n",
       "      <td>630</td>\n",
       "      <td>1</td>\n",
       "      <td>-1</td>\n",
       "      <td>0</td>\n",
       "      <td>unknown</td>\n",
       "      <td>no</td>\n",
       "    </tr>\n",
       "    <tr>\n",
       "      <th>4</th>\n",
       "      <td>4</td>\n",
       "      <td>29</td>\n",
       "      <td>technician</td>\n",
       "      <td>single</td>\n",
       "      <td>secondary</td>\n",
       "      <td>no</td>\n",
       "      <td>-13</td>\n",
       "      <td>yes</td>\n",
       "      <td>no</td>\n",
       "      <td>cellular</td>\n",
       "      <td>14</td>\n",
       "      <td>may</td>\n",
       "      <td>512</td>\n",
       "      <td>3</td>\n",
       "      <td>-1</td>\n",
       "      <td>0</td>\n",
       "      <td>unknown</td>\n",
       "      <td>no</td>\n",
       "    </tr>\n",
       "  </tbody>\n",
       "</table>\n",
       "</div>"
      ],
      "text/plain": [
       "   Unnamed: 0  age         job  marital  education default  balance housing  \\\n",
       "0           0   41    services  married    unknown      no       88     yes   \n",
       "1           1   56  technician  married  secondary      no     1938      no   \n",
       "2           2   30    services   single  secondary      no      245      no   \n",
       "3           3   34  management   single   tertiary      no     1396     yes   \n",
       "4           4   29  technician   single  secondary      no      -13     yes   \n",
       "\n",
       "  loan   contact  day month  duration  campaign  pdays  previous poutcome  \\\n",
       "0   no  cellular   11   may       105         1    336         2  failure   \n",
       "1  yes  cellular   26   feb       229         1    192         4  success   \n",
       "2  yes  cellular    8   jul       187         2     -1         0  unknown   \n",
       "3   no  cellular   17   jul       630         1     -1         0  unknown   \n",
       "4   no  cellular   14   may       512         3     -1         0  unknown   \n",
       "\n",
       "  deposit  \n",
       "0      no  \n",
       "1     yes  \n",
       "2      no  \n",
       "3      no  \n",
       "4      no  "
      ]
     },
     "execution_count": 7,
     "metadata": {},
     "output_type": "execute_result"
    }
   ],
   "source": [
    "df.head()"
   ]
  },
  {
   "cell_type": "markdown",
   "id": "846aa2b9",
   "metadata": {},
   "source": [
    "#### Create a bar chart using Matplotlib that displays the distribution of different job roles in the bank marketing dataset."
   ]
  },
  {
   "cell_type": "code",
   "execution_count": 3,
   "id": "522473e8",
   "metadata": {},
   "outputs": [
    {
     "data": {
      "text/plain": [
       "Text(0, 0.5, 'Count')"
      ]
     },
     "execution_count": 3,
     "metadata": {},
     "output_type": "execute_result"
    },
    {
     "data": {
      "image/png": "[encoded data removed]",
      "text/plain": [
       "<Figure size 640x480 with 1 Axes>"
      ]
     },
     "metadata": {},
     "output_type": "display_data"
    }
   ],
   "source": [
    "job_roles=df['job'].value_counts()\n",
    "job_roles.plot(kind='bar',color='skyblue')\n",
    "plt.title('Job Roles Distribution')\n",
    "plt.xlabel('Jobs')\n",
    "plt.ylabel('Count')"
   ]
  },
  {
   "cell_type": "code",
   "execution_count": 4,
   "id": "90b6a37a",
   "metadata": {},
   "outputs": [],
   "source": [
    "plt.show()"
   ]
  },
  {
   "cell_type": "markdown",
   "id": "da2b56ac",
   "metadata": {},
   "source": [
    "#### Plot a histogram using Matplotlib to show the age distribution of the individuals in the dataset"
   ]
  },
  {
   "cell_type": "code",
   "execution_count": 5,
   "id": "411cadb2",
   "metadata": {},
   "outputs": [
    {
     "data": {
      "image/png": "[encoded data removed]",
      "text/plain": [
       "<Figure size 640x480 with 1 Axes>"
      ]
     },
     "metadata": {},
     "output_type": "display_data"
    }
   ],
   "source": [
    "plt.hist(df['age'],bins=30,color='skyblue',edgecolor='black') #histogram is used for continous data,frequenc\n",
    "plt.title('Age Distribution') \n",
    "plt.xlabel('Age')\n",
    "plt.ylabel('Frequency')\n",
    "plt.show()"
   ]
  },
  {
   "cell_type": "markdown",
   "id": "d11854c2",
   "metadata": {},
   "source": [
    " #### Create a scatter plot using Matplotlib to examine the relationship between account balance and the last contact duration"
   ]
  },
  {
   "cell_type": "code",
   "execution_count": 8,
   "id": "b9638381",
   "metadata": {},
   "outputs": [
    {
     "data": {
      "image/png": "[encoded data removed]",
      "text/plain": [
       "<Figure size 640x480 with 1 Axes>"
      ]
     },
     "metadata": {},
     "output_type": "display_data"
    }
   ],
   "source": [
    "plt.scatter(df['balance'],df['contact'],color='blue',alpha=0.5)\n",
    "plt.title('Account Balance vs Last contact') \n",
    "plt.xlabel('Account Balance')\n",
    "plt.ylabel('Last Contact')\n",
    "plt.show()"
   ]
  },
  {
   "cell_type": "markdown",
   "id": "04df2cdb",
   "metadata": {},
   "source": [
    " #### Create a list of 10 random players in a football team, display the list, sort it, and remove the first item with the specified value."
   ]
  },
  {
   "cell_type": "code",
   "execution_count": 9,
   "id": "c3f9c590",
   "metadata": {},
   "outputs": [
    {
     "name": "stdout",
     "output_type": "stream",
     "text": [
      "List of random players:  ['Player4', 'Player3', 'Player9', 'Player6', 'Player5', 'Player7', 'Player8', 'Player2', 'Player1', 'Player10']\n",
      "Sorted list is:  ['Player1', 'Player10', 'Player2', 'Player3', 'Player4', 'Player5', 'Player6', 'Player7', 'Player8', 'Player9']\n",
      "Enter a value to remove (eg. Player5): Player6\n",
      "List after removing Player6: ['Player1', 'Player10', 'Player2', 'Player3', 'Player4', 'Player5', 'Player7', 'Player8', 'Player9']\n"
     ]
    }
   ],
   "source": [
    "import random\n",
    "\n",
    "players=['Player'+ str(i) for i in range(1,11)]\n",
    "random.shuffle(players)\n",
    "\n",
    "print(\"List of random players: \",players)\n",
    "\n",
    "players.sort()\n",
    "print(\"Sorted list is: \",players)\n",
    "\n",
    "value_to_remove=input(\"Enter a value to remove (eg. Player5): \")\n",
    "if value_to_remove in players:\n",
    "    players.remove(value_to_remove)\n",
    "    print(f\"List after removing {value_to_remove}\" + \":\",players)"
   ]
  },
  {
   "cell_type": "markdown",
   "id": "aaaa290f",
   "metadata": {},
   "source": [
    " #### Write a program to randomly select 10 integer elements from the range 100 to 200 and find the smallest among all."
   ]
  },
  {
   "cell_type": "code",
   "execution_count": 10,
   "id": "638a8e88",
   "metadata": {},
   "outputs": [
    {
     "name": "stdout",
     "output_type": "stream",
     "text": [
      "Random 10 integer elements are:  [113, 166, 145, 155, 124, 115, 180, 120, 194, 118]\n",
      "Minimum number is:  113\n"
     ]
    }
   ],
   "source": [
    "import random\n",
    "\n",
    "random_number=random.sample(range(100,201),10) #*****\n",
    "print(\"Random 10 integer elements are: \",random_number)\n",
    "\n",
    "min_number=min(random_number)\n",
    "print(\"Minimum number is: \",min_number)"
   ]
  },
  {
   "cell_type": "markdown",
   "id": "5db81c32",
   "metadata": {},
   "source": [
    " #### Create a dictionary of 5 countries with their currency details and display them."
   ]
  },
  {
   "cell_type": "code",
   "execution_count": 13,
   "id": "1665d610",
   "metadata": {},
   "outputs": [
    {
     "name": "stdout",
     "output_type": "stream",
     "text": [
      "India:Rupee\n",
      "US:Dollars\n",
      "UK:Pounds\n",
      "Russia:Rubble\n",
      "Japan:JPY\n"
     ]
    }
   ],
   "source": [
    "dict={\"India\":\"Rupee\",\"US\":\"Dollars\",\"UK\":\"Pounds\",\"Russia\":\"Rubble\",\"Japan\":\"JPY\"}\n",
    "    \n",
    "for country,currency in dict.items():\n",
    "    print(f\"{country}:{currency}\")"
   ]
  },
  {
   "cell_type": "markdown",
   "id": "9e94b6a2",
   "metadata": {},
   "source": [
    " #### Write a program that takes a sentence as input, replaces each blank with a hyphen, and prints the modified sentence."
   ]
  },
  {
   "cell_type": "code",
   "execution_count": 14,
   "id": "70b0536b",
   "metadata": {},
   "outputs": [
    {
     "name": "stdout",
     "output_type": "stream",
     "text": [
      "Enter a sentence: Hi my name is Riya Chavan\n",
      "Modified sentence is :  -H-i- -m-y- -n-a-m-e- -i-s- -R-i-y-a- -C-h-a-v-a-n-\n"
     ]
    }
   ],
   "source": [
    "user_sentence=input(\"Enter a sentence: \")\n",
    "modified_sentence= user_sentence.replace('','-')\n",
    "print(\"Modified sentence is : \",modified_sentence)\n"
   ]
  },
  {
   "cell_type": "markdown",
   "id": "a1ab56b2",
   "metadata": {},
   "source": [
    " #### Python Program to Solve Quadratic Equations. "
   ]
  },
  {
   "cell_type": "code",
   "execution_count": 20,
   "id": "60f8c984",
   "metadata": {},
   "outputs": [
    {
     "name": "stdout",
     "output_type": "stream",
     "text": [
      "Enter coefficient of a: 2\n",
      "Enter coefficient of b: 2\n",
      "Enter coefficient of c: 1\n",
      "Roots are :  ((-0.5+0.5j), (-0.5-0.5j))\n"
     ]
    }
   ],
   "source": [
    "import cmath\n",
    "\n",
    "def quadratic(a, b, c):\n",
    "    d=cmath.sqrt(b**2 - 4*a*c)\n",
    "    root1=(-b+d)/(2*a)\n",
    "    root2=(-b-d)/(2*a)\n",
    "    \n",
    "    return root1,root2\n",
    "\n",
    "try:\n",
    "    a=float(input(\"Enter coefficient of a: \"))\n",
    "    b=float(input(\"Enter coefficient of b: \"))\n",
    "    c=float(input(\"Enter coefficient of c: \"))\n",
    "    \n",
    "except ValueError:\n",
    "    print(\"Invalid input.Enter correct numerical values.\")\n",
    "\n",
    "else:\n",
    "    roots= quadratic(a, b, c)\n",
    "    print(\"Roots are : \",roots)"
   ]
  },
  {
   "cell_type": "markdown",
   "id": "05a92639",
   "metadata": {},
   "source": [
    " #### Write a program to print a specified number of Fibonacci numbers. "
   ]
  },
  {
   "cell_type": "code",
   "execution_count": 25,
   "id": "2d3a5a69",
   "metadata": {},
   "outputs": [
    {
     "name": "stdout",
     "output_type": "stream",
     "text": [
      "Enter the number of fibonacci to be printed: 4\n",
      "Fibonacci numbers : [0, 1, 1, 2]\n"
     ]
    }
   ],
   "source": [
    "def fibonacci(n):\n",
    "    fibo_list=[0,1]\n",
    "    for _ in range(2,n):\n",
    "        next_number=fibo_list[-1]+ fibo_list[-2]\n",
    "        fibo_list.append(next_number)\n",
    "    return fibo_list\n",
    "\n",
    "user=int(input(\"Enter the number of fibonacci to be printed: \")) #convert to int\n",
    "fibonacci_numbers= fibonacci(user)\n",
    "print(f\"Fibonacci numbers : {fibonacci_numbers}\")\n",
    "        "
   ]
  },
  {
   "cell_type": "markdown",
   "id": "3c6ece39",
   "metadata": {},
   "source": [
    " #### Create a NumPy array filled with all ones."
   ]
  },
  {
   "cell_type": "code",
   "execution_count": 29,
   "id": "fad20961",
   "metadata": {},
   "outputs": [
    {
     "name": "stdout",
     "output_type": "stream",
     "text": [
      "Numpy array filled with all ones:\n",
      "  [[1. 1.]\n",
      " [1. 1.]\n",
      " [1. 1.]]\n"
     ]
    }
   ],
   "source": [
    "import numpy as np\n",
    "\n",
    "ones_array=np.ones((3,2)) #shape\n",
    "print(\"Numpy array filled with all ones:\\n \",ones_array)"
   ]
  },
  {
   "cell_type": "markdown",
   "id": "b9ec84cb",
   "metadata": {},
   "source": [
    " #### Check whether a NumPy array contains a specified row"
   ]
  },
  {
   "cell_type": "code",
   "execution_count": 30,
   "id": "7ed2aa87",
   "metadata": {},
   "outputs": [
    {
     "name": "stdout",
     "output_type": "stream",
     "text": [
      "Check:  True\n"
     ]
    }
   ],
   "source": [
    "array=np.array([[1,3,2],[5,7,4],[6,8,9]])\n",
    "specified_row=np.array([5,7,4])\n",
    "\n",
    "contains=np.any(np.all(array==specified_row,axis=1)) #axis=0 column, =1 row\n",
    "print('Check: ',contains)"
   ]
  },
  {
   "cell_type": "markdown",
   "id": "b1e0bec5",
   "metadata": {},
   "source": [
    "  #### Compute mathematical operations on Array, Add & Multiply two matrices."
   ]
  },
  {
   "cell_type": "code",
   "execution_count": 32,
   "id": "83da10d6",
   "metadata": {},
   "outputs": [
    {
     "name": "stdout",
     "output_type": "stream",
     "text": [
      "Addition of 2 matrices is: \n",
      " [[ 6  8]\n",
      " [10 12]]\n",
      "Multiplication of two matrices is : \n",
      " [[19 22]\n",
      " [43 50]]\n"
     ]
    }
   ],
   "source": [
    "matrix1=np.array([[1,2],[3,4]])\n",
    "matrix2=np.array([[5,6],[7,8]])\n",
    "addition= np.add(matrix1,matrix2)\n",
    "print(\"Addition of 2 matrices is: \\n\",addition)\n",
    "\n",
    "multiplication=np.dot(matrix1,matrix2)\n",
    "print(\"Multiplication of two matrices is : \\n\",multiplication)"
   ]
  },
  {
   "cell_type": "markdown",
   "id": "fb869e9f",
   "metadata": {},
   "source": [
    " #### Find the most frequent value in a NumPy array."
   ]
  },
  {
   "cell_type": "code",
   "execution_count": 33,
   "id": "7307d194",
   "metadata": {},
   "outputs": [
    {
     "name": "stdout",
     "output_type": "stream",
     "text": [
      "Frequent value is : 4\n"
     ]
    }
   ],
   "source": [
    "array= np.array([1,2,2,3,3,3,4,4,4,4,5])\n",
    "\n",
    "frequent_value=np.bincount(array).argmax()\n",
    "print('Frequent value is :',frequent_value)"
   ]
  },
  {
   "cell_type": "markdown",
   "id": "c5db0761",
   "metadata": {},
   "source": [
    "#### Flatten a 2D numpy array into a 1D array."
   ]
  },
  {
   "cell_type": "code",
   "execution_count": 34,
   "id": "9a5bdac6",
   "metadata": {},
   "outputs": [
    {
     "name": "stdout",
     "output_type": "stream",
     "text": [
      "2D Array:  [[2 3 1]\n",
      " [4 6 5]]\n",
      "1D array is:  [2 3 1 4 6 5]\n"
     ]
    }
   ],
   "source": [
    "array_2d=np.array([[2,3,1],[4,6,5]])\n",
    "print(\"2D Array: \",array_2d)\n",
    "\n",
    "array_1d=array_2d.flatten()\n",
    "print(\"1D array is: \",array_1d)"
   ]
  },
  {
   "cell_type": "markdown",
   "id": "c3e862cf",
   "metadata": {},
   "source": [
    "#### Calculate the sum of all columns in a 2D NumPy array."
   ]
  },
  {
   "cell_type": "code",
   "execution_count": 35,
   "id": "a1a80ff8",
   "metadata": {},
   "outputs": [
    {
     "name": "stdout",
     "output_type": "stream",
     "text": [
      "Sum of all columns is : \n",
      " [15 18 12]\n"
     ]
    }
   ],
   "source": [
    "array_2d= np.array([[2,3,4],[5,6,7],[8,9,1]])\n",
    "array_sum= np.sum(array_2d,axis=0)\n",
    "print(\"Sum of all columns is : \\n\",array_sum)"
   ]
  },
  {
   "cell_type": "markdown",
   "id": "7a9f3a33",
   "metadata": {},
   "source": [
    "#### Write a function to calculate the arithmetic mean of a variable number of values."
   ]
  },
  {
   "cell_type": "code",
   "execution_count": 37,
   "id": "eebdf24e",
   "metadata": {},
   "outputs": [
    {
     "name": "stdout",
     "output_type": "stream",
     "text": [
      "Calculating:  2.5\n"
     ]
    }
   ],
   "source": [
    "def arithmetic_mean(*values): #* is used to define variable arg list,any number of arguments inside tuple\n",
    "    return sum(values)/len(values)\n",
    "\n",
    "values=arithmetic_mean(1,2,3,4)\n",
    "print(\"Calculating: \",values)"
   ]
  },
  {
   "cell_type": "markdown",
   "id": "f676a708",
   "metadata": {},
   "source": [
    "#### Write a lambda function to find the largest of 2 numbers."
   ]
  },
  {
   "cell_type": "code",
   "execution_count": 40,
   "id": "ce442e7e",
   "metadata": {},
   "outputs": [
    {
     "name": "stdout",
     "output_type": "stream",
     "text": [
      "Larger number is:  5\n"
     ]
    }
   ],
   "source": [
    "numbers= lambda x,y: x if x>y else y\n",
    "num=numbers(5,4)\n",
    "print(\"Larger number is: \",num)\n"
   ]
  },
  {
   "cell_type": "markdown",
   "id": "1431fdc6",
   "metadata": {},
   "source": [
    "#### Write a program to find the factorial of a given number using recursion."
   ]
  },
  {
   "cell_type": "code",
   "execution_count": 42,
   "id": "92ae8e31",
   "metadata": {},
   "outputs": [
    {
     "name": "stdout",
     "output_type": "stream",
     "text": [
      "Enter a number: 5\n",
      "Factorial of 5 is 120\n"
     ]
    }
   ],
   "source": [
    "def fact_recursive(n):\n",
    "    if n==0 or n==1:\n",
    "        return 1\n",
    "    else:\n",
    "        return n*fact_recursive(n-1)\n",
    "\n",
    "number=int(input(\"Enter a number: \"))\n",
    "call=fact_recursive(number)\n",
    "\n",
    "print(f\"Factorial of {number} is {call}\")"
   ]
  },
  {
   "cell_type": "markdown",
   "id": "87fa49e2",
   "metadata": {},
   "source": [
    "#### Create a Python program to sort an array of integers using Numpy."
   ]
  },
  {
   "cell_type": "code",
   "execution_count": 43,
   "id": "814a83e6",
   "metadata": {},
   "outputs": [
    {
     "name": "stdout",
     "output_type": "stream",
     "text": [
      "Sorted array:  [ 1  2  3  4  6  7  8  9 10 23]\n"
     ]
    }
   ],
   "source": [
    "array = np.array([2,3,1,6,7,8,10,23,4,9])\n",
    "sorted=np.sort(array)\n",
    "print(\"Sorted array: \",sorted)"
   ]
  },
  {
   "cell_type": "markdown",
   "id": "a1323716",
   "metadata": {},
   "source": [
    "#### Create a Python program to catch multiple exceptions in a single block."
   ]
  },
  {
   "cell_type": "code",
   "execution_count": 46,
   "id": "207d3164",
   "metadata": {},
   "outputs": [
    {
     "name": "stdout",
     "output_type": "stream",
     "text": [
      "Caught an exception ZeroDivisionError:division by zero\n"
     ]
    }
   ],
   "source": [
    "try:\n",
    "    x=10/0\n",
    "    \n",
    "except (ZeroDivisionError,TypeError) as e:\n",
    "    print(f\"Caught an exception {type(e).__name__}:{e}\")\n"
   ]
  },
  {
   "cell_type": "code",
   "execution_count": null,
   "id": "fefcd325",
   "metadata": {},
   "outputs": [],
   "source": [
    "#quests 29,28,25,23,22,21,19,17 ,..."
   ]
  },
  {
   "cell_type": "markdown",
   "id": "3e9afea8",
   "metadata": {},
   "source": [
    "#### Develop a script to find the GCD (Greatest Common Divisor) of two numbers."
   ]
  },
  {
   "cell_type": "code",
   "execution_count": 47,
   "id": "d0c0cbcd",
   "metadata": {},
   "outputs": [
    {
     "name": "stdout",
     "output_type": "stream",
     "text": [
      "Enter number a: 4\n",
      "Enter number b: 2\n",
      "GCD of 4 and 2 is : 2\n"
     ]
    }
   ],
   "source": [
    "import math\n",
    "a= int(input(\"Enter number a: \"))\n",
    "b=int(input(\"Enter number b: \"))\n",
    "\n",
    "gcd=math.gcd(a,b)\n",
    "print(f\"GCD of {a} and {b} is : {gcd}\")"
   ]
  },
  {
   "cell_type": "code",
   "execution_count": 48,
   "id": "08cf998f",
   "metadata": {
    "scrolled": true
   },
   "outputs": [
    {
     "data": {
      "text/html": [
       "<div>\n",
       "<style scoped>\n",
       "    .dataframe tbody tr th:only-of-type {\n",
       "        vertical-align: middle;\n",
       "    }\n",
       "\n",
       "    .dataframe tbody tr th {\n",
       "        vertical-align: top;\n",
       "    }\n",
       "\n",
       "    .dataframe thead th {\n",
       "        text-align: right;\n",
       "    }\n",
       "</style>\n",
       "<table border=\"1\" class=\"dataframe\">\n",
       "  <thead>\n",
       "    <tr style=\"text-align: right;\">\n",
       "      <th></th>\n",
       "      <th>Unnamed: 0</th>\n",
       "      <th>age</th>\n",
       "      <th>job</th>\n",
       "      <th>marital</th>\n",
       "      <th>education</th>\n",
       "      <th>default</th>\n",
       "      <th>balance</th>\n",
       "      <th>housing</th>\n",
       "      <th>loan</th>\n",
       "      <th>contact</th>\n",
       "      <th>day</th>\n",
       "      <th>month</th>\n",
       "      <th>duration</th>\n",
       "      <th>campaign</th>\n",
       "      <th>pdays</th>\n",
       "      <th>previous</th>\n",
       "      <th>poutcome</th>\n",
       "      <th>deposit</th>\n",
       "    </tr>\n",
       "  </thead>\n",
       "  <tbody>\n",
       "    <tr>\n",
       "      <th>0</th>\n",
       "      <td>0</td>\n",
       "      <td>41</td>\n",
       "      <td>services</td>\n",
       "      <td>married</td>\n",
       "      <td>unknown</td>\n",
       "      <td>no</td>\n",
       "      <td>88</td>\n",
       "      <td>yes</td>\n",
       "      <td>no</td>\n",
       "      <td>cellular</td>\n",
       "      <td>11</td>\n",
       "      <td>may</td>\n",
       "      <td>105</td>\n",
       "      <td>1</td>\n",
       "      <td>336</td>\n",
       "      <td>2</td>\n",
       "      <td>failure</td>\n",
       "      <td>no</td>\n",
       "    </tr>\n",
       "    <tr>\n",
       "      <th>1</th>\n",
       "      <td>1</td>\n",
       "      <td>56</td>\n",
       "      <td>technician</td>\n",
       "      <td>married</td>\n",
       "      <td>secondary</td>\n",
       "      <td>no</td>\n",
       "      <td>1938</td>\n",
       "      <td>no</td>\n",
       "      <td>yes</td>\n",
       "      <td>cellular</td>\n",
       "      <td>26</td>\n",
       "      <td>feb</td>\n",
       "      <td>229</td>\n",
       "      <td>1</td>\n",
       "      <td>192</td>\n",
       "      <td>4</td>\n",
       "      <td>success</td>\n",
       "      <td>yes</td>\n",
       "    </tr>\n",
       "    <tr>\n",
       "      <th>2</th>\n",
       "      <td>2</td>\n",
       "      <td>30</td>\n",
       "      <td>services</td>\n",
       "      <td>single</td>\n",
       "      <td>secondary</td>\n",
       "      <td>no</td>\n",
       "      <td>245</td>\n",
       "      <td>no</td>\n",
       "      <td>yes</td>\n",
       "      <td>cellular</td>\n",
       "      <td>8</td>\n",
       "      <td>jul</td>\n",
       "      <td>187</td>\n",
       "      <td>2</td>\n",
       "      <td>-1</td>\n",
       "      <td>0</td>\n",
       "      <td>unknown</td>\n",
       "      <td>no</td>\n",
       "    </tr>\n",
       "    <tr>\n",
       "      <th>3</th>\n",
       "      <td>3</td>\n",
       "      <td>34</td>\n",
       "      <td>management</td>\n",
       "      <td>single</td>\n",
       "      <td>tertiary</td>\n",
       "      <td>no</td>\n",
       "      <td>1396</td>\n",
       "      <td>yes</td>\n",
       "      <td>no</td>\n",
       "      <td>cellular</td>\n",
       "      <td>17</td>\n",
       "      <td>jul</td>\n",
       "      <td>630</td>\n",
       "      <td>1</td>\n",
       "      <td>-1</td>\n",
       "      <td>0</td>\n",
       "      <td>unknown</td>\n",
       "      <td>no</td>\n",
       "    </tr>\n",
       "    <tr>\n",
       "      <th>4</th>\n",
       "      <td>4</td>\n",
       "      <td>29</td>\n",
       "      <td>technician</td>\n",
       "      <td>single</td>\n",
       "      <td>secondary</td>\n",
       "      <td>no</td>\n",
       "      <td>-13</td>\n",
       "      <td>yes</td>\n",
       "      <td>no</td>\n",
       "      <td>cellular</td>\n",
       "      <td>14</td>\n",
       "      <td>may</td>\n",
       "      <td>512</td>\n",
       "      <td>3</td>\n",
       "      <td>-1</td>\n",
       "      <td>0</td>\n",
       "      <td>unknown</td>\n",
       "      <td>no</td>\n",
       "    </tr>\n",
       "  </tbody>\n",
       "</table>\n",
       "</div>"
      ],
      "text/plain": [
       "   Unnamed: 0  age         job  marital  education default  balance housing  \\\n",
       "0           0   41    services  married    unknown      no       88     yes   \n",
       "1           1   56  technician  married  secondary      no     1938      no   \n",
       "2           2   30    services   single  secondary      no      245      no   \n",
       "3           3   34  management   single   tertiary      no     1396     yes   \n",
       "4           4   29  technician   single  secondary      no      -13     yes   \n",
       "\n",
       "  loan   contact  day month  duration  campaign  pdays  previous poutcome  \\\n",
       "0   no  cellular   11   may       105         1    336         2  failure   \n",
       "1  yes  cellular   26   feb       229         1    192         4  success   \n",
       "2  yes  cellular    8   jul       187         2     -1         0  unknown   \n",
       "3   no  cellular   17   jul       630         1     -1         0  unknown   \n",
       "4   no  cellular   14   may       512         3     -1         0  unknown   \n",
       "\n",
       "  deposit  \n",
       "0      no  \n",
       "1     yes  \n",
       "2      no  \n",
       "3      no  \n",
       "4      no  "
      ]
     },
     "execution_count": 48,
     "metadata": {},
     "output_type": "execute_result"
    }
   ],
   "source": [
    "df.head()"
   ]
  },
  {
   "cell_type": "markdown",
   "id": "44164d3d",
   "metadata": {},
   "source": [
    "#### Develop a program to merge two Pandas DataFrames."
   ]
  },
  {
   "cell_type": "code",
   "execution_count": 50,
   "id": "c0e31209",
   "metadata": {},
   "outputs": [
    {
     "name": "stdout",
     "output_type": "stream",
     "text": [
      "Merged DataFrame:\n",
      "    id   name   age\n",
      "0   1   John   NaN\n",
      "1   2  Alice  25.0\n",
      "2   3    Bob  30.0\n",
      "3   4    NaN  22.0\n"
     ]
    }
   ],
   "source": [
    "import pandas as pd\n",
    "data1 = {'id': [1, 2, 3],\n",
    "         'name': ['John', 'Alice', 'Bob']}\n",
    "data2 = {'id': [2, 3, 4],\n",
    "         'age': [25, 30, 22]}\n",
    "\n",
    "df1 = pd.DataFrame(data1)\n",
    "df2 = pd.DataFrame(data2)\n",
    "\n",
    "merged_df = pd.merge(df1, df2, on='id', how='outer')  # You can choose 'inner', 'outer', 'left', or 'right' join\n",
    "print(\"Merged DataFrame:\\n\", merged_df)\n"
   ]
  },
  {
   "cell_type": "markdown",
   "id": "40eec339",
   "metadata": {},
   "source": [
    "#### Create a Numpy program to compute the inverse of a matrix."
   ]
  },
  {
   "cell_type": "code",
   "execution_count": 51,
   "id": "1e0b4513",
   "metadata": {},
   "outputs": [
    {
     "name": "stdout",
     "output_type": "stream",
     "text": [
      "Inverse of matrix is:  [[-2.5  1.5]\n",
      " [ 2.  -1. ]]\n"
     ]
    }
   ],
   "source": [
    "matrix = np.array([[2,3],[4,5]])\n",
    "inverse= np.linalg.inv(matrix)\n",
    "print(\"Inverse of matrix is: \",inverse)"
   ]
  },
  {
   "cell_type": "markdown",
   "id": "d3f240a5",
   "metadata": {},
   "source": [
    "#### merged dictionaries"
   ]
  },
  {
   "cell_type": "code",
   "execution_count": 53,
   "id": "5f72bb0c",
   "metadata": {},
   "outputs": [
    {
     "name": "stdout",
     "output_type": "stream",
     "text": [
      "{'name': 'Riya', 'rollno': '136', 'college': 'djsce', 'course': 'engineering'}\n"
     ]
    }
   ],
   "source": [
    "dict1={'name':'Riya', 'rollno':'136'}\n",
    "dict2={'college':'djsce','course':'engineering'}\n",
    "\n",
    "merge={**dict1,**dict2}\n",
    "print(merge)"
   ]
  },
  {
   "cell_type": "markdown",
   "id": "f6b6be99",
   "metadata": {},
   "source": [
    "#### palindrome"
   ]
  },
  {
   "cell_type": "code",
   "execution_count": 59,
   "id": "1e96b009",
   "metadata": {
    "scrolled": true
   },
   "outputs": [
    {
     "name": "stdout",
     "output_type": "stream",
     "text": [
      "Enter a string : malayalam\n",
      "It is palindrome\n"
     ]
    }
   ],
   "source": [
    "def palindrome(s):\n",
    "    s=s.lower()\n",
    "    return s == s[::-1]\n",
    "string=input(\"Enter a string : \")\n",
    "if palindrome(string):\n",
    "    print(\"It is palindrome\")\n",
    "else:\n",
    "    print(\"Its not palindrome\")"
   ]
  },
  {
   "cell_type": "markdown",
   "id": "64a3979c",
   "metadata": {},
   "source": [
    "#### largest smallest elements in array"
   ]
  },
  {
   "cell_type": "code",
   "execution_count": 62,
   "id": "c1a2d0be",
   "metadata": {},
   "outputs": [
    {
     "name": "stdout",
     "output_type": "stream",
     "text": [
      "Maximum and minimum elements are : (60, 10)\n"
     ]
    }
   ],
   "source": [
    "def largest_smallest(arr):\n",
    "    return max(arr),min(arr)\n",
    "\n",
    "array=[10,12,15,60]\n",
    "find=largest_smallest(array)\n",
    "print(\"Maximum and minimum elements are :\",find)\n"
   ]
  },
  {
   "cell_type": "markdown",
   "id": "6029c997",
   "metadata": {},
   "source": [
    "#### factorial using loop"
   ]
  },
  {
   "cell_type": "code",
   "execution_count": 64,
   "id": "8fad0b94",
   "metadata": {},
   "outputs": [
    {
     "name": "stdout",
     "output_type": "stream",
     "text": [
      "Enter a number: 4\n",
      "Factorial is:  24\n"
     ]
    }
   ],
   "source": [
    "def loop(n):\n",
    "    result=1\n",
    "    for i in range(1,n+1):\n",
    "        result *=i\n",
    "    return result\n",
    "\n",
    "number=int(input(\"Enter a number: \"))\n",
    "res=loop(number)\n",
    "print(\"Factorial is: \",res)"
   ]
  },
  {
   "cell_type": "markdown",
   "id": "53a7b46b",
   "metadata": {},
   "source": [
    "#### reverse a string"
   ]
  },
  {
   "cell_type": "code",
   "execution_count": 66,
   "id": "3d816240",
   "metadata": {},
   "outputs": [
    {
     "name": "stdout",
     "output_type": "stream",
     "text": [
      "Enter a string: Hello\n",
      "Reverse of the string is:  olleH\n"
     ]
    }
   ],
   "source": [
    "user_input=input(\"Enter a string: \")\n",
    "reverse=user_input[::-1]\n",
    "print(\"Reverse of the string is: \",reverse)"
   ]
  },
  {
   "cell_type": "markdown",
   "id": "66c01e26",
   "metadata": {},
   "source": [
    "#### assert"
   ]
  },
  {
   "cell_type": "code",
   "execution_count": 68,
   "id": "bbe03b37",
   "metadata": {},
   "outputs": [
    {
     "name": "stdout",
     "output_type": "stream",
     "text": [
      "Enter a value: 1\n",
      "Value is positive\n"
     ]
    }
   ],
   "source": [
    "#assert : debugging statement\n",
    "value=int(input(\"Enter a value: \"))\n",
    "assert value>0, \"Value is positive\"\n",
    "print(\"Value is positive\")\n",
    " #throws assertion error if not true"
   ]
  },
  {
   "cell_type": "markdown",
   "id": "f9c1823c",
   "metadata": {},
   "source": [
    "#### Invalid MarkS Exception"
   ]
  },
  {
   "cell_type": "code",
   "execution_count": 72,
   "id": "d2a87551",
   "metadata": {},
   "outputs": [
    {
     "name": "stdout",
     "output_type": "stream",
     "text": [
      "Enter your marks: 15\n",
      "Valid Marks\n"
     ]
    }
   ],
   "source": [
    "class InvalidMarks(Exception):\n",
    "    pass\n",
    "\n",
    "marks=int(input(\"Enter your marks: \"))\n",
    "if marks >100 or marks<0:\n",
    "          raise InvalidMarks(\"Invalid Marks\")\n",
    "else:\n",
    "          print(\"Valid Marks\")"
   ]
  },
  {
   "cell_type": "markdown",
   "id": "4eb4e629",
   "metadata": {},
   "source": [
    "#### Zero b*d"
   ]
  },
  {
   "cell_type": "code",
   "execution_count": 74,
   "id": "9847fa1b",
   "metadata": {},
   "outputs": [
    {
     "name": "stdout",
     "output_type": "stream",
     "text": [
      "Enter value of b: 3\n",
      "Enter value of d: 3\n",
      "Product is not zero\n"
     ]
    }
   ],
   "source": [
    "class ZeroProductError(Exception):\n",
    "    pass\n",
    "\n",
    "b=int(input(\"Enter value of b: \"))\n",
    "d=int(input(\"Enter value of d: \"))\n",
    "if b*d ==0:\n",
    "    raise ZeroProductError(\"Product cannot be zero\")\n",
    "else:\n",
    "    print(\"Product is not zero\")"
   ]
  },
  {
   "cell_type": "markdown",
   "id": "eebf3267",
   "metadata": {},
   "source": [
    "#### sum of digits"
   ]
  },
  {
   "cell_type": "code",
   "execution_count": 75,
   "id": "9c820a3b",
   "metadata": {
    "scrolled": true
   },
   "outputs": [
    {
     "name": "stdout",
     "output_type": "stream",
     "text": [
      "Enter a number: 123\n",
      "Sum of digits is:  6\n"
     ]
    }
   ],
   "source": [
    "def sum(n):\n",
    "    if n==0:\n",
    "        return 0\n",
    "    else:\n",
    "        return n%10 + sum(n//10)\n",
    "    \n",
    "number=int(input(\"Enter a number: \"))\n",
    "sum_digits=sum(number)\n",
    "print(\"Sum of digits is: \",sum_digits)"
   ]
  },
  {
   "cell_type": "code",
   "execution_count": 76,
   "id": "fd804ec3",
   "metadata": {},
   "outputs": [
    {
     "data": {
      "text/html": [
       "<div>\n",
       "<style scoped>\n",
       "    .dataframe tbody tr th:only-of-type {\n",
       "        vertical-align: middle;\n",
       "    }\n",
       "\n",
       "    .dataframe tbody tr th {\n",
       "        vertical-align: top;\n",
       "    }\n",
       "\n",
       "    .dataframe thead th {\n",
       "        text-align: right;\n",
       "    }\n",
       "</style>\n",
       "<table border=\"1\" class=\"dataframe\">\n",
       "  <thead>\n",
       "    <tr style=\"text-align: right;\">\n",
       "      <th></th>\n",
       "      <th>Unnamed: 0</th>\n",
       "      <th>age</th>\n",
       "      <th>job</th>\n",
       "      <th>marital</th>\n",
       "      <th>education</th>\n",
       "      <th>default</th>\n",
       "      <th>balance</th>\n",
       "      <th>housing</th>\n",
       "      <th>loan</th>\n",
       "      <th>contact</th>\n",
       "      <th>day</th>\n",
       "      <th>month</th>\n",
       "      <th>duration</th>\n",
       "      <th>campaign</th>\n",
       "      <th>pdays</th>\n",
       "      <th>previous</th>\n",
       "      <th>poutcome</th>\n",
       "      <th>deposit</th>\n",
       "    </tr>\n",
       "  </thead>\n",
       "  <tbody>\n",
       "    <tr>\n",
       "      <th>0</th>\n",
       "      <td>0</td>\n",
       "      <td>41</td>\n",
       "      <td>services</td>\n",
       "      <td>married</td>\n",
       "      <td>unknown</td>\n",
       "      <td>no</td>\n",
       "      <td>88</td>\n",
       "      <td>yes</td>\n",
       "      <td>no</td>\n",
       "      <td>cellular</td>\n",
       "      <td>11</td>\n",
       "      <td>may</td>\n",
       "      <td>105</td>\n",
       "      <td>1</td>\n",
       "      <td>336</td>\n",
       "      <td>2</td>\n",
       "      <td>failure</td>\n",
       "      <td>no</td>\n",
       "    </tr>\n",
       "    <tr>\n",
       "      <th>1</th>\n",
       "      <td>1</td>\n",
       "      <td>56</td>\n",
       "      <td>technician</td>\n",
       "      <td>married</td>\n",
       "      <td>secondary</td>\n",
       "      <td>no</td>\n",
       "      <td>1938</td>\n",
       "      <td>no</td>\n",
       "      <td>yes</td>\n",
       "      <td>cellular</td>\n",
       "      <td>26</td>\n",
       "      <td>feb</td>\n",
       "      <td>229</td>\n",
       "      <td>1</td>\n",
       "      <td>192</td>\n",
       "      <td>4</td>\n",
       "      <td>success</td>\n",
       "      <td>yes</td>\n",
       "    </tr>\n",
       "    <tr>\n",
       "      <th>2</th>\n",
       "      <td>2</td>\n",
       "      <td>30</td>\n",
       "      <td>services</td>\n",
       "      <td>single</td>\n",
       "      <td>secondary</td>\n",
       "      <td>no</td>\n",
       "      <td>245</td>\n",
       "      <td>no</td>\n",
       "      <td>yes</td>\n",
       "      <td>cellular</td>\n",
       "      <td>8</td>\n",
       "      <td>jul</td>\n",
       "      <td>187</td>\n",
       "      <td>2</td>\n",
       "      <td>-1</td>\n",
       "      <td>0</td>\n",
       "      <td>unknown</td>\n",
       "      <td>no</td>\n",
       "    </tr>\n",
       "    <tr>\n",
       "      <th>3</th>\n",
       "      <td>3</td>\n",
       "      <td>34</td>\n",
       "      <td>management</td>\n",
       "      <td>single</td>\n",
       "      <td>tertiary</td>\n",
       "      <td>no</td>\n",
       "      <td>1396</td>\n",
       "      <td>yes</td>\n",
       "      <td>no</td>\n",
       "      <td>cellular</td>\n",
       "      <td>17</td>\n",
       "      <td>jul</td>\n",
       "      <td>630</td>\n",
       "      <td>1</td>\n",
       "      <td>-1</td>\n",
       "      <td>0</td>\n",
       "      <td>unknown</td>\n",
       "      <td>no</td>\n",
       "    </tr>\n",
       "    <tr>\n",
       "      <th>4</th>\n",
       "      <td>4</td>\n",
       "      <td>29</td>\n",
       "      <td>technician</td>\n",
       "      <td>single</td>\n",
       "      <td>secondary</td>\n",
       "      <td>no</td>\n",
       "      <td>-13</td>\n",
       "      <td>yes</td>\n",
       "      <td>no</td>\n",
       "      <td>cellular</td>\n",
       "      <td>14</td>\n",
       "      <td>may</td>\n",
       "      <td>512</td>\n",
       "      <td>3</td>\n",
       "      <td>-1</td>\n",
       "      <td>0</td>\n",
       "      <td>unknown</td>\n",
       "      <td>no</td>\n",
       "    </tr>\n",
       "  </tbody>\n",
       "</table>\n",
       "</div>"
      ],
      "text/plain": [
       "   Unnamed: 0  age         job  marital  education default  balance housing  \\\n",
       "0           0   41    services  married    unknown      no       88     yes   \n",
       "1           1   56  technician  married  secondary      no     1938      no   \n",
       "2           2   30    services   single  secondary      no      245      no   \n",
       "3           3   34  management   single   tertiary      no     1396     yes   \n",
       "4           4   29  technician   single  secondary      no      -13     yes   \n",
       "\n",
       "  loan   contact  day month  duration  campaign  pdays  previous poutcome  \\\n",
       "0   no  cellular   11   may       105         1    336         2  failure   \n",
       "1  yes  cellular   26   feb       229         1    192         4  success   \n",
       "2  yes  cellular    8   jul       187         2     -1         0  unknown   \n",
       "3   no  cellular   17   jul       630         1     -1         0  unknown   \n",
       "4   no  cellular   14   may       512         3     -1         0  unknown   \n",
       "\n",
       "  deposit  \n",
       "0      no  \n",
       "1     yes  \n",
       "2      no  \n",
       "3      no  \n",
       "4      no  "
      ]
     },
     "execution_count": 76,
     "metadata": {},
     "output_type": "execute_result"
    }
   ],
   "source": [
    "df.head()"
   ]
  },
  {
   "cell_type": "markdown",
   "id": "f9bab734",
   "metadata": {},
   "source": [
    "#### remove unnamed"
   ]
  },
  {
   "cell_type": "code",
   "execution_count": 84,
   "id": "c3a0b7f5",
   "metadata": {
    "scrolled": true
   },
   "outputs": [],
   "source": [
    "df_cleaned = df.drop(columns=[\"Unnamed: 0\"]).dropna().drop_duplicates()"
   ]
  },
  {
   "cell_type": "code",
   "execution_count": 85,
   "id": "5aae6b9d",
   "metadata": {},
   "outputs": [
    {
     "name": "stdout",
     "output_type": "stream",
     "text": [
      "Shape :  (5581, 17)\n"
     ]
    }
   ],
   "source": [
    "print(\"Shape : \",df_cleaned.shape)"
   ]
  },
  {
   "cell_type": "code",
   "execution_count": 87,
   "id": "5367d940",
   "metadata": {},
   "outputs": [
    {
     "name": "stdout",
     "output_type": "stream",
     "text": [
      "41.42677345537757\n"
     ]
    }
   ],
   "source": [
    "average_age=df[df['deposit']=='yes']['age'].mean()\n",
    "print(average_age)"
   ]
  },
  {
   "cell_type": "markdown",
   "id": "a69dd790",
   "metadata": {},
   "source": [
    "#### rectangle,perimeter init"
   ]
  },
  {
   "cell_type": "code",
   "execution_count": 88,
   "id": "300d5e41",
   "metadata": {},
   "outputs": [
    {
     "name": "stdout",
     "output_type": "stream",
     "text": [
      "Area: 40\n",
      "Perimeter: 26\n"
     ]
    }
   ],
   "source": [
    "class Rectangle:\n",
    "    def __init__(self, length, width):\n",
    "        self.length = length\n",
    "        self.width = width\n",
    "\n",
    "    def calculate_area(self):\n",
    "        return self.length * self.width\n",
    "\n",
    "    def calculate_perimeter(self):\n",
    "        return 2 * (self.length + self.width)\n",
    "    \n",
    "rectangle = Rectangle(5, 8)\n",
    "area = rectangle.calculate_area()\n",
    "perimeter = rectangle.calculate_perimeter()\n",
    "print(\"Area:\", area)\n",
    "print(\"Perimeter:\", perimeter)\n"
   ]
  },
  {
   "cell_type": "markdown",
   "id": "346b65f9",
   "metadata": {},
   "source": [
    "#### bank account methods"
   ]
  },
  {
   "cell_type": "code",
   "execution_count": 89,
   "id": "ed0163a4",
   "metadata": {},
   "outputs": [
    {
     "name": "stdout",
     "output_type": "stream",
     "text": [
      "Deposited 1000. New balance: 1000.0\n",
      "Withdrew 500. New balance: 500.0\n",
      "Interest computed. New balance: 525.0\n",
      "Account Balance for John Doe: 525.0\n"
     ]
    }
   ],
   "source": [
    "class BankAccount:\n",
    "    def __init__(self, account_number, account_holder, balance=0.0):\n",
    "        self.account_number = account_number\n",
    "        self.account_holder = account_holder\n",
    "        self.balance = balance\n",
    "\n",
    "    def deposit(self, amount):\n",
    "        self.balance += amount\n",
    "        print(f\"Deposited {amount}. New balance: {self.balance}\")\n",
    "\n",
    "    def withdraw(self, amount):\n",
    "        if amount <= self.balance:\n",
    "            self.balance -= amount\n",
    "            print(f\"Withdrew {amount}. New balance: {self.balance}\")\n",
    "        else:\n",
    "            print(\"Insufficient funds!\")\n",
    "\n",
    "    def compute_interest(self, rate):\n",
    "        interest = self.balance * rate / 100\n",
    "        self.balance += interest\n",
    "        print(f\"Interest computed. New balance: {self.balance}\")\n",
    "\n",
    "    def display_balance(self):\n",
    "        print(f\"Account Balance for {self.account_holder}: {self.balance}\")\n",
    "\n",
    "\n",
    "account1 = BankAccount(1, \"John Doe\")\n",
    "account1.deposit(1000)\n",
    "account1.withdraw(500)\n",
    "account1.compute_interest(5)\n",
    "account1.display_balance()\n"
   ]
  },
  {
   "cell_type": "code",
   "execution_count": null,
   "id": "0074197f",
   "metadata": {},
   "outputs": [],
   "source": []
  }
 ],
 "metadata": {
  "kernelspec": {
   "display_name": "Python 3 (ipykernel)",
   "language": "python",
   "name": "python3"
  },
  "language_info": {
   "codemirror_mode": {
    "name": "ipython",
    "version": 3
   },
   "file_extension": ".py",
   "mimetype": "text/x-python",
   "name": "python",
   "nbconvert_exporter": "python",
   "pygments_lexer": "ipython3",
   "version": "3.11.4"
  }
 },
 "nbformat": 4,
 "nbformat_minor": 5
}
